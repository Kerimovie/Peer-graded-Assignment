{
 "cells": [
  {
   "cell_type": "markdown",
   "id": "68d28881-b08d-4ff4-afc7-4262377f8bbe",
   "metadata": {},
   "source": [
    "# Kerimovie data science\n"
   ]
  },
  {
   "cell_type": "markdown",
   "id": "e603de9a-4735-47f6-af97-0064a9f00250",
   "metadata": {},
   "source": [
    "## Introduction\n",
    "\n",
    "After completing the IBM Data Science Professional Certificate, the journey into data science is just beginning. This notebook aims to guide the next steps in advancing your knowledge and skills. We will explore specialized areas such as advanced machine learning, big data, and deep learning, while also strengthening foundational concepts in mathematics and programming.\n",
    "\n",
    "The objective of this notebook is to outline potential learning paths, suggest advanced courses, and provide resources to help transition from a foundational understanding to a more specialized expertise in data science.\n"
   ]
  },
  {
   "cell_type": "markdown",
   "id": "4adad4f5-d7f8-403a-9665-f59a773806f4",
   "metadata": {},
   "source": [
    "## Data Science Languages\r\n",
    "\r\n",
    "Data science involves the use of various programming languages, each with its own strengths and use cases. Below are some of the most commonly used languages in the field:\r\n",
    "\r\n",
    "- **Python**: Widely used for data analysis, machine learning, and deep learning due to its simplicity and a rich ecosystem of libraries (e.g., Pandas, NumPy, Scikit-learn, TensorFlow).\r\n",
    "- **R**: Popular in academia and among statisticians for its powerful statistical analysis capabilities and rich set of packages like ggplot2 and dplyr.\r\n",
    "- **SQL**: Essential for querying and managing data in relational databases, often used for data extraction and manipulation.\r\n",
    "- **Java**: Used in big data technologies like Hadoop and Spark, and also in large-scale production systems.\r\n",
    "- **Scala**: Often used with Apache Spark for big data processing, known for its functional programming features.\r\n",
    "- **Julia**: Emerging language known for its high performance, particularly in numerical and scientific computing.\r\n"
   ]
  },
  {
   "cell_type": "markdown",
   "id": "38a73dfb-18e4-4c12-8c03-542f7bbd189d",
   "metadata": {},
   "source": [
    "## Data Science Libraries\n",
    "\n",
    "Data science relies heavily on specialized libraries to handle various tasks such as data manipulation, visualization, and machine learning. Below are some of the most widely used libraries:\n",
    "\n",
    "### Python Libraries\n",
    "- **Pandas**: Provides data structures like DataFrames to efficiently manipulate and analyze data.\n",
    "- **NumPy**: Supports large, multi-dimensional arrays and matrices, along with a collection of mathematical functions.\n",
    "- **Matplotlib**: A plotting library used for creating static, animated, and interactive visualizations.\n",
    "- **Seaborn**: Built on top of Matplotlib, it offers a high-level interface for drawing attractive statistical graphics.\n",
    "- **Scikit-learn**: A robust library for machine learning that includes tools for classification, regression, clustering, and more.\n",
    "- **TensorFlow**: An open-source platform for machine learning, particularly well-suited for deep learning tasks.\n",
    "- **Keras**: A high-level neural networks API, written in Python and capable of running on top of TensorFlow, Theano, or CNTK.\n",
    "- **PyTorch**: An open-source machine learning library primarily developed by Facebook's AI Research lab, widely used for deep learning.\n",
    "- **SciPy**: Used for scientific and technical computing, building on NumPy to include functions for optimization, integration, and more.\n",
    "\n",
    "### R Libraries\n",
    "- **ggplot2**: A powerful library for creating complex and customizable data visualizations.\n",
    "- **dplyr**: Provides a set of tools for efficiently manipulating data frames.\n",
    "- **tidyr**: Helps in tidying data by providing functions to spread and gather data in R.\n",
    "- **caret**: A package that streamlines the process of training, tuning, and evaluating machine learning models.\n",
    "- **shiny**: Enables the building of interactive web applications directly from R.\n",
    "\n",
    "### Big Data Libraries\n",
    "- **Apache Spark**: A unified analytics engine for big data processing, with built-in modules for streaming, SQL, machine learning, and graph processing.\n",
    "- **Hadoop**: A framework that allows for the distributed processing of large data sets across clusters of computers using simple programming models.\n",
    "\n",
    "These libraries are essential tools for data scientists, enabling them to perform complex data analysis, build predictive models, and create visualizations efficiently.\n"
   ]
  },
  {
   "cell_type": "markdown",
   "id": "f56e39f8-16b5-4bdc-8a7b-b7300c564512",
   "metadata": {},
   "source": [
    "## Data Science Tools\r\n",
    "\r\n",
    "| Tool            | Description                                                                 | Category              |\r\n",
    "|-----------------|-----------------------------------------------------------------------------|-----------------------|\r\n",
    "| **Jupyter**     | An open-source tool that allows you to create and share documents containing live code, equations, visualizations, and narrative text. | Interactive Computing |\r\n",
    "| **RStudio**     | An integrated development environment (IDE) for R that provides tools to help you write and debug code, visualize data, and manage projects. | IDE                   |\r\n",
    "| **Apache Spark**| A unified analytics engine for big data processing, with modules for streaming, SQL, machine learning, and graph processing. | Big Data Processing   |\r\n",
    "| **TensorFlow**  | An open-source platform for machine learning, particularly used for training and deploying deep learning models. | Machine Learning      |\r\n",
    "| **Tableau**     | A powerful data visualization tool that enables users to create interactive and shareable dashboards. | Data Visualization    |\r\n",
    "| **Git**         | A version control system that tracks changes in source code during software development, allowing for collaboration and version management. | Version Control       |\r\n",
    "| **MySQL**       | An open-source relational database management system used for managing and organizing data. | Database Management   |\r\n",
    "| **Excel**       | A spreadsheet tool widely used for data analysis, calculations, and visualizations. | Data Analysis         |\r\n",
    "\r\n",
    "This table provides a summary of essential tools used in data science, categorized by their primary use.\r\n"
   ]
  },
  {
   "cell_type": "markdown",
   "id": "ce08d46d-cad4-43be-9b5d-ee8a5b06de3c",
   "metadata": {},
   "source": [
    "## Arithmetic Expression Examples\r\n",
    "\r\n",
    "Arithmetic expressions are mathematical calculations that involve basic operations such as addition, subtraction, multiplication, and division. These operations are fundamental in data science for performing calculations, data manipulation, and building models.\r\n",
    "\r\n",
    "Below are some examples of simple arithmetic expressions:\r\n"
   ]
  },
  {
   "cell_type": "code",
   "execution_count": 3,
   "id": "b69f8431-c48b-4020-b3da-b5fea2cb2385",
   "metadata": {},
   "outputs": [
    {
     "data": {
      "text/plain": [
       "(56, 35)"
      ]
     },
     "execution_count": 3,
     "metadata": {},
     "output_type": "execute_result"
    }
   ],
   "source": [
    "# Multiply two numbers\n",
    "multiplication_result = 8 * 7\n",
    "\n",
    "# Add two numbers\n",
    "addition_result = 15 + 20\n",
    "\n",
    "# Display the results\n",
    "multiplication_result, addition_result\n"
   ]
  },
  {
   "cell_type": "code",
   "execution_count": 8,
   "id": "f296673e-867d-4198-9da9-a769c8728af0",
   "metadata": {},
   "outputs": [
    {
     "data": {
      "text/plain": [
       "2.5"
      ]
     },
     "execution_count": 8,
     "metadata": {},
     "output_type": "execute_result"
    }
   ],
   "source": [
    "# Convert minutes to hours\n",
    "minutes = 150\n",
    "hours = minutes / 60\n",
    "\n",
    "# Display the result\n",
    "hours\n"
   ]
  },
  {
   "cell_type": "markdown",
   "id": "c6f0d320-586e-496f-b4f7-2c1f00247608",
   "metadata": {},
   "source": [
    "## Objectives\r\n",
    "\r\n",
    "In this notebook, we will cover the following objectives:\r\n",
    "\r\n",
    "- Learn how to use basic arithmetic expressions in Python.\r\n",
    "- Convert time measurements from minutes to hours.\r\n",
    "- Understand and list key data science languages and libraries.\r\n",
    "- Explore essential tools used in the field of data science.\r\n",
    "- Identify advanced courses to pursue after completing the IBM Data Science Professional Certificate.\r\n"
   ]
  },
  {
   "cell_type": "markdown",
   "id": "37804775-a5d2-4868-a6c0-12c6a644b4aa",
   "metadata": {},
   "source": [
    "## Author\n",
    "\n",
    "This notebook was created by Kerimovie.\n",
    "\n",
    "Feel free to reach out for any questions or feedback.\n"
   ]
  },
  {
   "cell_type": "code",
   "execution_count": null,
   "id": "b9c3436a-a502-48bf-a3b9-eefaeb67c5e1",
   "metadata": {},
   "outputs": [],
   "source": []
  }
 ],
 "metadata": {
  "kernelspec": {
   "display_name": "Python 3 (ipykernel)",
   "language": "python",
   "name": "python3"
  },
  "language_info": {
   "codemirror_mode": {
    "name": "ipython",
    "version": 3
   },
   "file_extension": ".py",
   "mimetype": "text/x-python",
   "name": "python",
   "nbconvert_exporter": "python",
   "pygments_lexer": "ipython3",
   "version": "3.12.5"
  }
 },
 "nbformat": 4,
 "nbformat_minor": 5
}
